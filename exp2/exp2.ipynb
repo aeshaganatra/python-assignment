{
 "cells": [
  {
   "cell_type": "code",
   "execution_count": 2,
   "metadata": {},
   "outputs": [
    {
     "name": "stdout",
     "output_type": "stream",
     "text": [
      "Blank List: \n",
      "[]\n",
      "\n",
      "List of numbers: \n",
      "[10, 20, 14]\n",
      "\n",
      "List Items: \n",
      "Aesha\n",
      "Ranu\n",
      "\n",
      "Multi-Dimensional List: \n",
      "[['Aesha', 'Khyati'], ['Ranu']]\n"
     ]
    }
   ],
   "source": [
    "#PROGRAM 1: Simple operation on list.\n",
    "\n",
    "# Creating a List \n",
    "List = [] \n",
    "print(\"Blank List: \") \n",
    "print(List) \n",
    "\n",
    "# Creating a List of numbers \n",
    "List = [10, 20, 14] \n",
    "print(\"\\nList of numbers: \") \n",
    "print(List) \n",
    "\n",
    "# Creating a List of strings and accessing \n",
    "# using index \n",
    "List = [\"Aesha\", \"Khyati\", \"Ranu\"] \n",
    "print(\"\\nList Items: \") \n",
    "print(List[0]) \n",
    "print(List[2]) \n",
    "\n",
    "# Creating a Multi-Dimensional List \n",
    "# (By Nesting a list inside a List) \n",
    "List = [['Aesha', 'Khyati'] , ['Ranu']] \n",
    "print(\"\\nMulti-Dimensional List: \") \n",
    "print(List) \n"
   ]
  },
  {
   "cell_type": "code",
   "execution_count": 10,
   "metadata": {},
   "outputs": [
    {
     "name": "stdout",
     "output_type": "stream",
     "text": [
      "output 1\n",
      "[0, 3, 2]\n",
      "output 2\n",
      "[9, 7, 6]\n",
      "output 3\n",
      "3\n",
      "[4, 5]\n"
     ]
    }
   ],
   "source": [
    "#PROGRAM 2: Delete value from list\n",
    "#removes the first matching value, not a specific index:\n",
    "a = [0, 2, 3, 2]\n",
    "a.remove(2)\n",
    "print('output 1')\n",
    "print(a)\n",
    "\n",
    "#del removes the item at a specific index:\n",
    "a = [9, 8, 7, 6]\n",
    "del a[1]\n",
    "print('output 2')\n",
    "print(a)\n",
    "\n",
    "#and pop removes the item at a specific index and returns it.\n",
    "a = [4, 3, 5]\n",
    "#a.pop(1)\n",
    "print('output 3')\n",
    "print(a.pop(1))\n",
    "print(a)"
   ]
  },
  {
   "cell_type": "code",
   "execution_count": 12,
   "metadata": {},
   "outputs": [
    {
     "name": "stdout",
     "output_type": "stream",
     "text": [
      "['Java', 'python', 123, 456, 678]\n",
      "['ABC', 'AESHA', 456, 4, 5]\n",
      "[1, 2, 3, 2, 3, 4, 5]\n",
      "[2, 3, 4, 5, 1, 2, 3, 2, 3, 4, 5]\n",
      "15\n",
      "4\n"
     ]
    }
   ],
   "source": [
    "#PROGRAM 3: Inbuilt function in list\n",
    "\n",
    "#append(): Used for appending and adding elements to List.It is used to add elements to the last position of List.\n",
    "# Adds List Element as value of List. \n",
    "List = ['Java', 'python', 123, 456] \n",
    "List.append(678) \n",
    "print(List) \n",
    "\n",
    "#insert(): Inserts an elements at specified position.\n",
    "List = ['ABC', 'AESHA', 4, 5] \n",
    "# Insert at index 2 value 456 \n",
    "List.insert(2,456)\n",
    "print(List)\n",
    "\n",
    "#extend(): Adds contents to List2 to the end of List1\n",
    "List1 = [1, 2, 3] \n",
    "List2 = [2, 3, 4, 5] \n",
    "# Add List2 to List1 \n",
    "List1.extend(List2)\n",
    "\n",
    "print(List1) \n",
    "# Add List1 to List2 now \n",
    "List2.extend(List1) \n",
    "print(List2) \n",
    "\n",
    "#sum() : Calculates sum of all the elements of List.\n",
    "List = [1, 2, 3, 4, 5] \n",
    "print(sum(List)) \n",
    "\n",
    "#count():Calculates total occurrence of given element of List\n",
    "List = [1, 2, 3, 1, 2, 1, 2, 3, 2, 1] \n",
    "print(List.count(1)) \n",
    "\n",
    "\n",
    "\n"
   ]
  },
  {
   "cell_type": "code",
   "execution_count": 16,
   "metadata": {},
   "outputs": [
    {
     "name": "stdout",
     "output_type": "stream",
     "text": [
      "()\n",
      "('python', 'Java')\n",
      "('python', 'Java')\n",
      "(0, 1, 2, 3, 'python', 'geek')\n",
      "((0, 1, 2, 3), ('python', 'geek'))\n",
      "('python', 'python', 'python')\n"
     ]
    }
   ],
   "source": [
    "#PROGRAM 4: Tuple operations.\n",
    "#Creating Tuples\n",
    "# An empty tuple \n",
    "empty_tuple = () \n",
    "print (empty_tuple) \n",
    "\n",
    "# Creating non-empty tuples \n",
    "\n",
    "# way of creation \n",
    "tup = 'python', 'Java'\n",
    "print(tup) \n",
    "\n",
    "# Another for doing the same \n",
    "tup = ('python', 'Java') \n",
    "print(tup) \n",
    "\n",
    "# Code for concatenating 2 tuples \n",
    "tuple1 = (0, 1, 2, 3) \n",
    "tuple2 = ('python', 'geek') \n",
    "# Concatenating above two \n",
    "print(tuple1 + tuple2)\n",
    "\n",
    "\n",
    "# Code for creating nested tuples \n",
    "tuple1 = (0, 1, 2, 3) \n",
    "tuple2 = ('python', 'geek') \n",
    "tuple3 = (tuple1, tuple2) \n",
    "print(tuple3) \n",
    "\n",
    "\n",
    "# Code to create a tuple with repetition \n",
    "tuple3 = ('python',)*3\n",
    "print(tuple3) \n",
    "\n",
    "\n"
   ]
  },
  {
   "cell_type": "code",
   "execution_count": 18,
   "metadata": {},
   "outputs": [
    {
     "name": "stdout",
     "output_type": "stream",
     "text": [
      "('red', 'blue', 'green', 'yellow', 'white', 'black', 1, 2, 3, 4, 5, 6, 7, 8, 9, 0)\n",
      "(0, 18, 24, 28, 30, 30, 28, 24, 18, 0)\n"
     ]
    }
   ],
   "source": [
    "#PROGRAM 5: Add and multiply 2 tuples.\n",
    "from operator import mul\n",
    "\n",
    "tuple1=('red','blue','green','yellow','white','black') \n",
    "tuple2=(1,2,3,4,5,6,7,8,9,0)\n",
    "\n",
    "t=(0,9,8,7,6,5,4,3,2,1)\n",
    "\n",
    "tuple3=tuple1+tuple2\n",
    "\n",
    "print(tuple3)\n",
    "\n",
    "tuple4=tuple(map(mul,tuple2,t))\n",
    "\n",
    "print(tuple4)"
   ]
  },
  {
   "cell_type": "code",
   "execution_count": 1,
   "metadata": {},
   "outputs": [
    {
     "name": "stdout",
     "output_type": "stream",
     "text": [
      "a6\n",
      "b2\n",
      "Result =  (3, 0)\n"
     ]
    }
   ],
   "source": [
    "#PROGRAM 6: Find divisor from tuple.\n",
    "a=int(input('a'))\n",
    "b=int(input('b'))\n",
    "result = divmod(a,b)\n",
    "print(\"Result = \", result)"
   ]
  },
  {
   "cell_type": "code",
   "execution_count": 2,
   "metadata": {},
   "outputs": [
    {
     "name": "stdout",
     "output_type": "stream",
     "text": [
      "Enter a number : 4\n",
      "The smallest divisor for 4 is2\n"
     ]
    }
   ],
   "source": [
    "#PROGRAM 7: Find minimum or maximum divisor. \n",
    "num = int (input(\"Enter a number : \"))\n",
    "for i in range(2,num+1):\n",
    "    if num % i==0:\n",
    "        print (\"The smallest divisor for {} is{}\".format(num,i))\n",
    "    break\n"
   ]
  },
  {
   "cell_type": "code",
   "execution_count": 3,
   "metadata": {},
   "outputs": [
    {
     "name": "stdout",
     "output_type": "stream",
     "text": [
      "java\n",
      "python\n",
      "python\n"
     ]
    }
   ],
   "source": [
    "# PROGRAM 8: Retrieve key and value from dictionary.\n",
    "\n",
    "# creating a new dictionary \n",
    "my_dict ={\"java\":100, \"python\":112, \"c\":11} \n",
    "\n",
    "# list out keys and values separately \n",
    "key_list = list(my_dict.keys()) \n",
    "val_list = list(my_dict.values()) \n",
    "\n",
    "print(key_list[val_list.index(100)]) \n",
    "print(key_list[val_list.index(112)]) \n",
    "\n",
    "# one-liner \n",
    "print(list(my_dict.keys())[list(my_dict.values()).index(112)]) \n"
   ]
  },
  {
   "cell_type": "code",
   "execution_count": 4,
   "metadata": {},
   "outputs": [
    {
     "name": "stdout",
     "output_type": "stream",
     "text": [
      "Original dictionary is : {'Ranu': 3, 'Aesha': 1, 'Khyati': 2}\n",
      "Dict key-value are : \n",
      "Ranu 3\n",
      "Aesha 1\n",
      "Khyati 2\n"
     ]
    }
   ],
   "source": [
    "# PROGRAM 9: Access dictionary in different way\n",
    "# method 1:\n",
    "# Python3 code to demonstrate \n",
    "# to get key and value \n",
    "# using in operator \n",
    "\n",
    "# initializing dictionary \n",
    "test_dict = {\"Aesha\" : 1, \"Khyati\" : 2, \"Ranu\" : 3} \n",
    "\n",
    "# Printing dictionary \n",
    "print (\"Original dictionary is : \" + str(test_dict)) \n",
    "\n",
    "# using in operator to \n",
    "# get key and value \n",
    "print (\"Dict key-value are : \") \n",
    "for i in test_dict : \n",
    "    print(i, test_dict[i]) \n"
   ]
  },
  {
   "cell_type": "code",
   "execution_count": null,
   "metadata": {},
   "outputs": [],
   "source": []
  }
 ],
 "metadata": {
  "kernelspec": {
   "display_name": "Python 3",
   "language": "python",
   "name": "python3"
  },
  "language_info": {
   "codemirror_mode": {
    "name": "ipython",
    "version": 3
   },
   "file_extension": ".py",
   "mimetype": "text/x-python",
   "name": "python",
   "nbconvert_exporter": "python",
   "pygments_lexer": "ipython3",
   "version": "3.5.2"
  }
 },
 "nbformat": 4,
 "nbformat_minor": 2
}
