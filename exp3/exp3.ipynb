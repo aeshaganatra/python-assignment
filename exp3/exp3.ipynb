{
 "cells": [
  {
   "cell_type": "code",
   "execution_count": 9,
   "metadata": {},
   "outputs": [
    {
     "name": "stdout",
     "output_type": "stream",
     "text": [
      "Enter the number: 8\n",
      "8 is not perfect cube \n",
      "cube root of 8 is 2\n"
     ]
    }
   ],
   "source": [
    "# PROGRAM 1: Find cube root of a perfect cube\n",
    "num = int(input('Enter the number: '))\n",
    "ans=0\n",
    "while ans**3<num:\n",
    "    ans+=1\n",
    "    if ans**3!=num:\n",
    "        print(str(num)+ ' is not perfect cube ')\n",
    "    else:\n",
    "        print('cube root of '+str(num)+' is '+str(ans))"
   ]
  },
  {
   "cell_type": "code",
   "execution_count": 12,
   "metadata": {},
   "outputs": [
    {
     "name": "stdout",
     "output_type": "stream",
     "text": [
      "First call to function\n",
      "Second call to function\n"
     ]
    }
   ],
   "source": [
    "# PROGRAM 2: Function scoping.\n",
    "def myfunction(str):\n",
    "    print(str)\n",
    "    return\n",
    "\n",
    "myfunction(\"First call to function\")\n",
    "myfunction(\"Second call to function\")\n"
   ]
  },
  {
   "cell_type": "code",
   "execution_count": 16,
   "metadata": {},
   "outputs": [
    {
     "name": "stdout",
     "output_type": "stream",
     "text": [
      "Enter the number:8\n",
      "Factorial of  8  is  40320\n"
     ]
    }
   ],
   "source": [
    "# PROGRAM 3: Factorial using recursion\n",
    "\n",
    "def fact(n):\n",
    "    if n==1 :\n",
    "        return 1 \n",
    "    else:\n",
    "        return (n*fact(n-1))\n",
    "\n",
    "n=int(input(\"Enter the number:\"))\n",
    "f=fact(n)\n",
    "print(\"Factorial of \",n,\" is \",f)"
   ]
  },
  {
   "cell_type": "code",
   "execution_count": 17,
   "metadata": {},
   "outputs": [
    {
     "name": "stdout",
     "output_type": "stream",
     "text": [
      "Enter n5\n",
      "1\n",
      "1\n",
      "2\n",
      "3\n",
      "5\n"
     ]
    }
   ],
   "source": [
    "# PROGRAM 4: Fibonacci using recursive function.\n",
    "\n",
    "def fib(n):\n",
    "    if n<=1:\n",
    "        return 1 \n",
    "    else:\n",
    "        return (fib(n-2)+fib(n-1))\n",
    "n=int(input('Enter n'))\n",
    "\n",
    "for i in range(n):\n",
    "    print(fib(i))"
   ]
  },
  {
   "cell_type": "code",
   "execution_count": 22,
   "metadata": {},
   "outputs": [
    {
     "name": "stdout",
     "output_type": "stream",
     "text": [
      "Enter String:abba\n",
      "String is a palindrome\n"
     ]
    }
   ],
   "source": [
    "# PROGRAM 6: Palindrome using recursion.\n",
    "def pal(n):\n",
    "    if len(n)<1:\n",
    "        return True\n",
    "    else:\n",
    "        if n[0] == n[-1]:\n",
    "            return pal(n[1:-1]) \n",
    "        else:\n",
    "            return False\n",
    "\n",
    "a=str(input('Enter String:'))\n",
    "if(pal(a)==True):\n",
    "    print('String is a palindrome')\n",
    "else:\n",
    "    print('Is not palindrome')"
   ]
  },
  {
   "cell_type": "code",
   "execution_count": 23,
   "metadata": {},
   "outputs": [
    {
     "name": "stdout",
     "output_type": "stream",
     "text": [
      "['red', 'blue', 'green']\n",
      "['pink', 'blue', 'orange']\n"
     ]
    }
   ],
   "source": [
    "# PROGRAM 7: List mutability.\n",
    "color = [\"red\", \"blue\",\"green\"]\n",
    "print(color)\n",
    "color[0] = \"pink\"\n",
    "color[-1] =\"orange\"\n",
    "print(color)"
   ]
  },
  {
   "cell_type": "code",
   "execution_count": 25,
   "metadata": {},
   "outputs": [
    {
     "name": "stdout",
     "output_type": "stream",
     "text": [
      "['Abc', 'AAB', 1, 2, 3]\n",
      "15\n",
      "4\n",
      "10\n",
      "1\n",
      "1.054\n",
      "5.33\n",
      "[5.33, 4.445, 3, 2.5, 2.3, 1.054]\n"
     ]
    }
   ],
   "source": [
    "# PROGRAM 8: Inbuilt function of list.\n",
    "# Adds List Element as value of List. \n",
    "List = ['Abc', 'AAB', 1, 2] \n",
    "List.append(3) \n",
    "print(List) \n",
    "\n",
    "# sum() : Calculates sum of all the elements of List\n",
    "List = [1, 2, 3, 4, 5] \n",
    "print(sum(List)) \n",
    "\n",
    "# count():Calculates total occurrence of given element of List\n",
    "List = [1, 2, 3, 1, 2, 1, 2, 3, 2, 1] \n",
    "print(List.count(1)) \n",
    "\n",
    "# length:Calculates total length of List\n",
    "List = [1, 2, 3, 1, 2, 1, 2, 3, 2, 1] \n",
    "print(len(List)) \n",
    "\n",
    "# index(): Returns the index of first occurrence. Start and End index are not necessary parameters\n",
    "List = [1, 2, 3, 1, 2, 1, 2, 3, 2, 1] \n",
    "print(List.index(2)) \n",
    "\n",
    "# min() : Calculates minimum of all the elements of List\n",
    "List = [2.3, 4.445, 3, 5.33, 1.054, 2.5] \n",
    "print(min(List)) \n",
    "\n",
    "# max(): Calculates maximum of all the elements of List\n",
    "List = [2.3, 4.445, 3, 5.33, 1.054, 2.5] \n",
    "print(max(List)) \n",
    "\n",
    "# reverse(): Sort the given data structure (both tuple and list) in ascending order\n",
    "List = [2.3, 4.445, 3, 5.33, 1.054, 2.5] \n",
    "#Reverse flag is set True \n",
    "List.sort(reverse=True) \n",
    "#List.sort().reverse(), reverses the sorted list \n",
    "print(List)\n",
    "\n"
   ]
  },
  {
   "cell_type": "code",
   "execution_count": 27,
   "metadata": {},
   "outputs": [
    {
     "name": "stdout",
     "output_type": "stream",
     "text": [
      "Original List: [4, 8, 2, 10, 15, 18]\n",
      "After Cloning: [4, 8, 2, 10, 15, 18]\n"
     ]
    }
   ],
   "source": [
    "# PROGRAM 9: List cloning.\n",
    "\n",
    "def Cloning(li1):\n",
    "    li_copy = li1[:] \n",
    "    return li_copy\n",
    "# Driver Code\n",
    "li1 = [4, 8, 2, 10, 15, 18]\n",
    "li2 = Cloning(li1)\n",
    "print(\"Original List:\", li1)\n",
    "print(\"After Cloning:\",li2)"
   ]
  },
  {
   "cell_type": "code",
   "execution_count": null,
   "metadata": {},
   "outputs": [],
   "source": []
  }
 ],
 "metadata": {
  "kernelspec": {
   "display_name": "Python 3",
   "language": "python",
   "name": "python3"
  },
  "language_info": {
   "codemirror_mode": {
    "name": "ipython",
    "version": 3
   },
   "file_extension": ".py",
   "mimetype": "text/x-python",
   "name": "python",
   "nbconvert_exporter": "python",
   "pygments_lexer": "ipython3",
   "version": "3.5.2"
  }
 },
 "nbformat": 4,
 "nbformat_minor": 2
}
