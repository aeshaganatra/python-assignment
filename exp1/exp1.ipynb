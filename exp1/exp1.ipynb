{
 "cells": [
  {
   "cell_type": "code",
   "execution_count": 3,
   "metadata": {},
   "outputs": [
    {
     "name": "stdout",
     "output_type": "stream",
     "text": [
      "enter any num3\n",
      "3 is odd\n"
     ]
    }
   ],
   "source": [
    "#PROGRAM 1: Number is even or odd.\n",
    "\n",
    "num=int(input(\"enter any num\"))\n",
    "if num%2==0:\n",
    "    print(num,\"is even\")\n",
    "else:\n",
    "    print(num,\"is odd\")"
   ]
  },
  {
   "cell_type": "code",
   "execution_count": 4,
   "metadata": {},
   "outputs": [
    {
     "name": "stdout",
     "output_type": "stream",
     "text": [
      "Enter a number8\n",
      "Positive\n"
     ]
    }
   ],
   "source": [
    "#PROGRAM 2: Given number is positive, negative or zero.\n",
    "num= int(input(\"Enter a number\"))\n",
    "if num<0:\n",
    "    print(\"Negative\")\n",
    "elif num==0:\n",
    "    print(\"Zero\")\n",
    "else:\n",
    "    print(\"Positive\")"
   ]
  },
  {
   "cell_type": "code",
   "execution_count": 5,
   "metadata": {},
   "outputs": [
    {
     "name": "stdout",
     "output_type": "stream",
     "text": [
      "Time in India is : \n",
      "2020-04-24 13:46:55.102156\n"
     ]
    }
   ],
   "source": [
    "#PROGRAM 3: Notation on current time.\n",
    "import datetime\n",
    "current_time=datetime.datetime.now() \n",
    "print (\"Time in India is : \")\n",
    "print(current_time)"
   ]
  },
  {
   "cell_type": "code",
   "execution_count": 9,
   "metadata": {},
   "outputs": [
    {
     "name": "stdout",
     "output_type": "stream",
     "text": [
      "1\n",
      "2\n",
      "3\n",
      "4\n",
      "5\n"
     ]
    }
   ],
   "source": [
    "#PROGRAM 4: Print from 1 to 5.\n",
    "for i in range (1,6):\n",
    "    print(i)"
   ]
  },
  {
   "cell_type": "code",
   "execution_count": 20,
   "metadata": {},
   "outputs": [
    {
     "name": "stdout",
     "output_type": "stream",
     "text": [
      "enter number3\n",
      "sum of 3 is 6\n"
     ]
    }
   ],
   "source": [
    "#PROGRAM 5: Sum of n numbers.\n",
    "num=int(input(\"enter number\"))\n",
    "sum=0\n",
    "\n",
    "for i in range(num+1):\n",
    "    sum=sum+i\n",
    "print(\"sum of\",num,\"is\",sum)\n",
    "    \n"
   ]
  },
  {
   "cell_type": "code",
   "execution_count": 24,
   "metadata": {},
   "outputs": [
    {
     "name": "stdout",
     "output_type": "stream",
     "text": [
      "enetr digit: 45\n",
      "sum is:  9\n"
     ]
    }
   ],
   "source": [
    "#PROGRAM 6: Sum of digits\n",
    "\n",
    "n=int(input(\"enetr digit: \"))\n",
    "sum=0\n",
    "while(n>0):\n",
    "    sum=sum+int(n%10)\n",
    "    n=int(n/10)\n",
    "print(\"sum is: \",sum)"
   ]
  },
  {
   "cell_type": "code",
   "execution_count": 25,
   "metadata": {},
   "outputs": [
    {
     "name": "stdout",
     "output_type": "stream",
     "text": [
      "A\n",
      "e\n",
      "s\n",
      "h\n",
      "a\n"
     ]
    }
   ],
   "source": [
    "#PROGRAM 7: Print letters using for loop for letter in \n",
    "str=\"Aesha\"\n",
    "for i in range (len(str)):\n",
    "    print(str[i])"
   ]
  },
  {
   "cell_type": "code",
   "execution_count": 31,
   "metadata": {},
   "outputs": [
    {
     "name": "stdout",
     "output_type": "stream",
     "text": [
      "0\n",
      "1\n",
      "2\n",
      "3\n",
      "4\n",
      " \n",
      "3\n",
      "4\n",
      "5\n",
      " \n",
      "3\n",
      "5\n",
      "7\n"
     ]
    }
   ],
   "source": [
    "#PROGRAM 8: For loop with different range.\n",
    "# Prints out the numbers 0,1,2,3,4\n",
    "for x in range(5):\n",
    "    print(x)\n",
    "print(\" \")\n",
    "\n",
    "# Prints out 3,4,5\n",
    "for x in range(3, 6):\n",
    "    print(x)\n",
    "print(\" \")\n",
    "\n",
    "# Prints out 3,5,7\n",
    "for x in range(3, 8, 2):\n",
    "    print(x)\n"
   ]
  },
  {
   "cell_type": "code",
   "execution_count": 32,
   "metadata": {},
   "outputs": [
    {
     "name": "stdout",
     "output_type": "stream",
     "text": [
      "Enter the length of string7\n",
      "\n",
      "*\n",
      "**\n",
      "***\n",
      "****\n",
      "*****\n",
      "******\n",
      "*******\n"
     ]
    }
   ],
   "source": [
    "#PROGRAM 9: Print pattern. Right angled Triangle\n",
    "\n",
    "n = int(input(\"Enter the length of string\"))\n",
    "for i in range(n+1): \n",
    "    for j in range(i):\n",
    "        print(\"*\", end=\"\")\n",
    "    print(\"\")"
   ]
  },
  {
   "cell_type": "code",
   "execution_count": 40,
   "metadata": {},
   "outputs": [
    {
     "name": "stdout",
     "output_type": "stream",
     "text": [
      "Enter the password: @eshA4199\n",
      "Password is correct\n"
     ]
    }
   ],
   "source": [
    "#PROGRAM 10: Check password is correct or not.\n",
    "def check_password(password):\n",
    "    sym=['@','!','#','%','$','^','*','&']\n",
    "    val=True\n",
    "    if len(password)<8:\n",
    "        print (\"Password should be atleast 8 digits\")\n",
    "        val = False\n",
    "    if not any (char.isdigit() for char in password): \n",
    "        print (\"Password should have number\")\n",
    "        val = False\n",
    "    if any (char in sym for char in password):\n",
    "        val = True\n",
    "    if val:\n",
    "        return val\n",
    "    \n",
    "password = input(\"Enter the password: \")\n",
    "if check_password(password):\n",
    "    print(\"Password is correct\")\n",
    "else:\n",
    "    print(\"Not correct\")"
   ]
  },
  {
   "cell_type": "code",
   "execution_count": null,
   "metadata": {},
   "outputs": [],
   "source": []
  }
 ],
 "metadata": {
  "kernelspec": {
   "display_name": "Python 3",
   "language": "python",
   "name": "python3"
  },
  "language_info": {
   "codemirror_mode": {
    "name": "ipython",
    "version": 3
   },
   "file_extension": ".py",
   "mimetype": "text/x-python",
   "name": "python",
   "nbconvert_exporter": "python",
   "pygments_lexer": "ipython3",
   "version": "3.5.2"
  }
 },
 "nbformat": 4,
 "nbformat_minor": 2
}
