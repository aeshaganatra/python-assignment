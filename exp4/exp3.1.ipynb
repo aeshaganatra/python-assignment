{
 "cells": [
  {
   "cell_type": "code",
   "execution_count": 1,
   "metadata": {},
   "outputs": [
    {
     "name": "stdout",
     "output_type": "stream",
     "text": [
      "The entry is a\n",
      "Oops! <class 'ValueError'> occured.\n",
      "Next entry.\n",
      "\n",
      "The entry is 0\n",
      "Oops! <class 'ZeroDivisionError'> occured.\n",
      "Next entry.\n",
      "\n",
      "The entry is 2\n",
      "The reciprocal of 2 is 0.5\n"
     ]
    }
   ],
   "source": [
    "# PROGRAM 1: Exception Handling with try...except. else block\n",
    "\n",
    "# import module sys to get the type of exception\n",
    "import sys\n",
    "\n",
    "randomList = ['a', 0, 2]\n",
    "\n",
    "for entry in randomList:\n",
    "    try:\n",
    "        print(\"The entry is\", entry)\n",
    "        r = 1/int(entry)\n",
    "        break\n",
    "    except:\n",
    "        print(\"Oops!\", sys.exc_info()[0], \"occured.\")\n",
    "        print(\"Next entry.\")\n",
    "        print()\n",
    "print(\"The reciprocal of\", entry, \"is\", r)"
   ]
  },
  {
   "cell_type": "code",
   "execution_count": 17,
   "metadata": {},
   "outputs": [
    {
     "name": "stdout",
     "output_type": "stream",
     "text": [
      "16.666666666666668\n",
      "cannot divide with a zero!!\n",
      "Invalid Type!!\n"
     ]
    }
   ],
   "source": [
    "# PROGRAM 2: Nested try blocks\n",
    "\n",
    "def nestedTry(ip):\n",
    "    try:\n",
    "        ip=int(ip)\n",
    "        try:\n",
    "            c=100/ip\n",
    "        except ZeroDivisionError:\n",
    "            print(\"cannot divide with a zero!!\")\n",
    "        else:\n",
    "            print(c)\n",
    "    except ValueError:\n",
    "        print(\"Invalid Type!!\")\n",
    "\n",
    "nestedTry(6) \n",
    "nestedTry(0)\n",
    "nestedTry('a')"
   ]
  },
  {
   "cell_type": "code",
   "execution_count": 18,
   "metadata": {},
   "outputs": [
    {
     "name": "stdout",
     "output_type": "stream",
     "text": [
      "We cannot divide a number by 0\n"
     ]
    }
   ],
   "source": [
    "# PROGRAM 3: Common exception handling ZeroDivisionError\n",
    "a=1\n",
    "b=0\n",
    "try:\n",
    "    c=a/b\n",
    "except ZeroDivisionError:\n",
    "    print('We cannot divide a number by 0')"
   ]
  },
  {
   "cell_type": "code",
   "execution_count": 26,
   "metadata": {},
   "outputs": [
    {
     "name": "stdout",
     "output_type": "stream",
     "text": [
      "0.6666666666666666\n",
      "1.0\n"
     ]
    }
   ],
   "source": [
    "# PROGRAM 4: handling exception in function \n",
    "def abc(a,b):\n",
    "    try:\n",
    "        c = (a/b) \n",
    "    except ZeroDivisionError:\n",
    "        print (\"a/b result in 0\")\n",
    "    else:\n",
    "        print(c)\n",
    "    \n",
    "# Driver program to test above\n",
    "abc(2,3)\n",
    "abc(3,3)"
   ]
  },
  {
   "cell_type": "code",
   "execution_count": 30,
   "metadata": {},
   "outputs": [
    {
     "name": "stdout",
     "output_type": "stream",
     "text": [
      "Closing thefile\n"
     ]
    }
   ],
   "source": [
    "# PROGRAM 5: Exception handling with try finally block\n",
    "\n",
    "try:\n",
    "    fh=open(\"abc.txt\",\"w\")\n",
    "    try:\n",
    "        fh.write(\"python is based upon indentdation\") \n",
    "    finally:\n",
    "        print(\"Closing thefile\")\n",
    "        fh.close()\n",
    "except IOError:\n",
    "    print(\"Error: cannot find the file\")"
   ]
  },
  {
   "cell_type": "code",
   "execution_count": 33,
   "metadata": {},
   "outputs": [
    {
     "name": "stdout",
     "output_type": "stream",
     "text": [
      "Colder than absolute zero\n",
      "-108.4\n",
      "Colder than absolute zero\n",
      "265.6039999999999\n"
     ]
    }
   ],
   "source": [
    "# PROGRAM 6: Example of assertion\n",
    "\n",
    "def KelvintoFahrenheit(Temperature):\n",
    "    assert (Temperature >= 0)\n",
    "    print(\"Colder than absolute zero\")\n",
    "    return ((Temperature-273)*1.8)+32\n",
    "\n",
    "print(KelvintoFahrenheit(195))\n",
    "print(KelvintoFahrenheit(402.78))\n"
   ]
  },
  {
   "cell_type": "code",
   "execution_count": null,
   "metadata": {},
   "outputs": [],
   "source": []
  }
 ],
 "metadata": {
  "kernelspec": {
   "display_name": "Python 3",
   "language": "python",
   "name": "python3"
  },
  "language_info": {
   "codemirror_mode": {
    "name": "ipython",
    "version": 3
   },
   "file_extension": ".py",
   "mimetype": "text/x-python",
   "name": "python",
   "nbconvert_exporter": "python",
   "pygments_lexer": "ipython3",
   "version": "3.5.2"
  }
 },
 "nbformat": 4,
 "nbformat_minor": 2
}
